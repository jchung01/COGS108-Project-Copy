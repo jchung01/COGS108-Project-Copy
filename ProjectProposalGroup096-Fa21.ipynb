{
 "cells": [
  {
   "cell_type": "markdown",
   "metadata": {},
   "source": [
    "# COGS 108 - Final Project Proposal"
   ]
  },
  {
   "cell_type": "markdown",
   "metadata": {},
   "source": [
    "# Names\n",
    "\n",
    "- Joonsung Park\n",
    "- James Chung\n",
    "- Richard Gross\n",
    "- Madison Hambly\n",
    "- Colin Lintereur"
   ]
  },
  {
   "cell_type": "markdown",
   "metadata": {},
   "source": [
    "# Research Question"
   ]
  },
  {
   "cell_type": "markdown",
   "metadata": {},
   "source": [
    "How do the most popular topics from previous COGS 108 final projects vary per quarter from 2019 to 2021? Also what other trends can find in past submissions, like changes in word count, and number of graphs used?"
   ]
  },
  {
   "cell_type": "markdown",
   "metadata": {},
   "source": [
    "## Background and Prior Work"
   ]
  },
  {
   "cell_type": "markdown",
   "metadata": {},
   "source": [
    "While looking through the previous COGS 108 final projects for our project review, we thought it would be interesting to quantify the types of previous projects.\n",
    "\n",
    "References (include links):\n",
    "- 1) https://github.com/orgs/COGS108/repositories?page=1\n",
    "- 2) https://towardsdatascience.com/notebook-meta-analysis-jupyter-as-a-zero-infrastructure-alternative-to-experiment-trackers-69e7343d1343?gi=b945c70dda05"
   ]
  },
  {
   "cell_type": "markdown",
   "metadata": {},
   "source": [
    "# Hypothesis\n"
   ]
  },
  {
   "cell_type": "markdown",
   "metadata": {},
   "source": [
    "We predict that projects related to public health and politics will be more popular and we think that popular topics do not vary too much per quarter. Due to most of the submissions between 2019 and 2021 being submitted during COVID and periods of social unrest, we suspect that it would have been a very popular to run data analysis on topics related to these events. We also expect that whatever topics were popular in one quarter, were still popular in subsequent quarters since quarters are a relatively short amount of time and it would be unlikely that popular project topics would change drastically during that time."
   ]
  },
  {
   "cell_type": "markdown",
   "metadata": {},
   "source": [
    "# Data"
   ]
  },
  {
   "cell_type": "markdown",
   "metadata": {},
   "source": [
    "Our ideal dataset includes final project submissions of previous groups (including the github link), the topics of those projects, and the quarter that the group submitted that project. This would include roughly 400 projects over 6 quarters. This data would be collected by webscraping COGS 108 project submission repositories, and either webscraping or parsing final submissions to find out what topic they focus on. We would store this data in a pandas dataframe object."
   ]
  },
  {
   "cell_type": "markdown",
   "metadata": {},
   "source": [
    "# Ethics & Privacy"
   ]
  },
  {
   "cell_type": "markdown",
   "metadata": {},
   "source": [
    "One area of our topic that concerns the privacy of others is that previous project submissions include the names of the group members that made that project. To account for this, these names will be ignored and removed from our analysis to maintain the privacy of those individuals. One way our analysis may be biased is that our topic categories may not properly capture the full scope of the project and will be influenced by our own opinions since there is no way to objectively categorize these projects. To combat this, our team will work together to make sure that we all agree about our decisions in how we delineate project topics. This way, it will be less likely that one person's bias will affect the entire project. Another bias that we will encounter is the issue of certain group submissions not existing in the COGS 108 repositories. For whatever reason this is, we cannot fully categorize every previous project submission."
   ]
  },
  {
   "cell_type": "markdown",
   "metadata": {},
   "source": [
    "# Team Expectations "
   ]
  },
  {
   "cell_type": "markdown",
   "metadata": {},
   "source": [
    "- Each member is expected to give their full effort in completing the tasks that were assigned to them and finishing the project\n",
    "- Each member is expected to commuincate transparently about any successes or issues encountered\n",
    "- Each member is expected to respect each other"
   ]
  },
  {
   "cell_type": "markdown",
   "metadata": {},
   "source": [
    "# Project Timeline Proposal"
   ]
  },
  {
   "cell_type": "markdown",
   "metadata": {},
   "source": [
    "| Meeting Date  | Meeting Time| Completed Before Meeting  | Discuss at Meeting |\n",
    "|---|---|---|---|\n",
    "| 10/27  |  12 PM | Obtain and clean our dataset | Discuss anomalies that we find in the data and how to move forward | \n",
    "| 11/3  |  12 PM | Wrangle data | Discuss ideal dataset | \n",
    "| 11/10  | 12 PM  | Submit first checkpoint | Discuss approaches to categorizing project topics |\n",
    "| 11/17  | 12 PM  | Start categorizing previous project topics | Better methods for categorizing topics |\n",
    "| 11/22  | 12 PM  | Finish categorizing topics and submit second checkpoint | Discuss starting out analysis on our data |\n",
    "| 12/1  | 12 PM  | Complete analysis; Draft results/conclusion| Discuss/edit full project |\n",
    "| 12/10  | Before 11:59 PM  | Final project and video | Turn in Final Project & Group Project Surveys |"
   ]
  }
 ],
 "metadata": {
  "kernelspec": {
   "display_name": "Python 3",
   "language": "python",
   "name": "python3"
  },
  "language_info": {
   "codemirror_mode": {
    "name": "ipython",
    "version": 3
   },
   "file_extension": ".py",
   "mimetype": "text/x-python",
   "name": "python",
   "nbconvert_exporter": "python",
   "pygments_lexer": "ipython3",
   "version": "3.6.9"
  }
 },
 "nbformat": 4,
 "nbformat_minor": 2
}
