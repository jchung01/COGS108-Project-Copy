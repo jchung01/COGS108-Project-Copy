{
 "cells": [
  {
   "cell_type": "markdown",
   "metadata": {},
   "source": [
    "# COGS 108 - Data Checkpoint"
   ]
  },
  {
   "cell_type": "markdown",
   "metadata": {},
   "source": [
    "# Names\n",
    "\n",
    "- Joonsung Park\n",
    "- James Chung\n",
    "- Richard Gross\n",
    "- Madison Hambly\n",
    "- Colin Lintereur"
   ]
  },
  {
   "cell_type": "markdown",
   "metadata": {},
   "source": [
    "<a id='research_question'></a>\n",
    "# Research Question"
   ]
  },
  {
   "cell_type": "markdown",
   "metadata": {},
   "source": [
    "*Fill in your research question here*"
   ]
  },
  {
   "cell_type": "markdown",
   "metadata": {},
   "source": [
    "# Dataset(s)"
   ]
  },
  {
   "cell_type": "markdown",
   "metadata": {},
   "source": [
    "*Fill in your dataset information here*\n",
    "\n",
    "(Copy this information for each dataset)\n",
    "- Dataset Name:\n",
    "- Link to the dataset:\n",
    "- Number of observations:\n",
    "\n",
    "1-2 sentences describing each dataset. \n",
    "\n",
    "If you plan to use multiple datasets, add 1-2 sentences about how you plan to combine these datasets."
   ]
  },
  {
   "cell_type": "markdown",
   "metadata": {},
   "source": [
    "# Setup"
   ]
  },
  {
   "cell_type": "code",
   "execution_count": 6,
   "metadata": {},
   "outputs": [
    {
     "name": "stdout",
     "output_type": "stream",
     "text": [
      "{'cell_type': 'markdown', 'metadata': {'id': 'd71Rvr9DCWQ9'}, 'source': [\"<a id='research_question'></a>\\n\", '# Research Question']}\n",
      "False\n",
      "False\n",
      "True\n",
      "<class 'str'>\n"
     ]
    }
   ],
   "source": [
    "import numpy as np\n",
    "# import bs4\n",
    "# import urllib.request\n",
    "\n",
    "import requests\n",
    "# import io\n",
    "# from pathlib import Path\n",
    "import json\n",
    "\n",
    "# link to sample notebook: https://raw.githubusercontent.com/COGS108/FinalProjects-Sp21/main/FinalProject_group002.ipynb\n",
    "link = 'https://raw.githubusercontent.com/COGS108/FinalProjects-Sp21/main/FinalProject_group002.ipynb'\n",
    "\n",
    "# webpage=str(urllib.request.urlopen(link).read())\n",
    "# soup = bs4.BeautifulSoup(webpage)\n",
    "\n",
    "# print(soup.get_text())\n",
    "    \n",
    "# Downloading the csv file from your GitHub account\n",
    "\n",
    "download = requests.get(link).content\n",
    "\n",
    "# download\n",
    "rf = json.loads(download)\n",
    "\n",
    "for cell in rf['cells']:\n",
    "#     print([c.lower() for c in cell['source']])\n",
    "    try:\n",
    "        if '# research question' in [c.lower() for c in cell['source']]:\n",
    "            print(cell)\n",
    "    except IndexError:\n",
    "        print(\"INDEXERROR\", cell['source'])\n",
    "        \n",
    "# rf['cells']\n",
    "\n",
    "print('research question' in [s for s in [\"<a id='research_question'></a>\\n\", '# research question']])\n",
    "\n",
    "for s in [\"<a id='research_question'></a>\\n\", '# research question']:\n",
    "    print('# research question' in s)\n",
    "\n",
    "print(type([\"<a id='research_question'></a>\\n\", '# research question'][1]))"
   ]
  },
  {
   "cell_type": "code",
   "execution_count": null,
   "metadata": {},
   "outputs": [],
   "source": []
  },
  {
   "cell_type": "markdown",
   "metadata": {},
   "source": [
    "# Data Cleaning"
   ]
  },
  {
   "cell_type": "markdown",
   "metadata": {},
   "source": [
    "Describe your data cleaning steps here."
   ]
  },
  {
   "cell_type": "code",
   "execution_count": 2,
   "metadata": {},
   "outputs": [],
   "source": [
    "## YOUR CODE HERE\n",
    "## FEEL FREE TO ADD MULTIPLE CELLS PER SECTION"
   ]
  }
 ],
 "metadata": {
  "kernelspec": {
   "display_name": "Python 3",
   "language": "python",
   "name": "python3"
  },
  "language_info": {
   "codemirror_mode": {
    "name": "ipython",
    "version": 3
   },
   "file_extension": ".py",
   "mimetype": "text/x-python",
   "name": "python",
   "nbconvert_exporter": "python",
   "pygments_lexer": "ipython3",
   "version": "3.6.9"
  }
 },
 "nbformat": 4,
 "nbformat_minor": 2
}
