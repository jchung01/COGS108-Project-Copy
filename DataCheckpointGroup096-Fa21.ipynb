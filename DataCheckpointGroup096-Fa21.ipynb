{
 "cells": [
  {
   "cell_type": "markdown",
   "metadata": {},
   "source": [
    "# COGS 108 - Data Checkpoint"
   ]
  },
  {
   "cell_type": "markdown",
   "metadata": {},
   "source": [
    "# Names\n",
    "\n",
    "- Joonsung Park\n",
    "- James Chung\n",
    "- Richard Gross\n",
    "- Madison Hambly\n",
    "- Colin Lintereur"
   ]
  },
  {
   "cell_type": "markdown",
   "metadata": {},
   "source": [
    "<a id='research_question'></a>\n",
    "# Research Question"
   ]
  },
  {
   "cell_type": "markdown",
   "metadata": {},
   "source": [
    "*Fill in your research question here*"
   ]
  },
  {
   "cell_type": "markdown",
   "metadata": {},
   "source": [
    "# Dataset(s)"
   ]
  },
  {
   "cell_type": "markdown",
   "metadata": {},
   "source": [
    "*Fill in your dataset information here*\n",
    "\n",
    "(Copy this information for each dataset)\n",
    "- Dataset Name:\n",
    "- Link to the dataset:\n",
    "- Number of observations:\n",
    "\n",
    "1-2 sentences describing each dataset. \n",
    "\n",
    "If you plan to use multiple datasets, add 1-2 sentences about how you plan to combine these datasets."
   ]
  },
  {
   "cell_type": "markdown",
   "metadata": {},
   "source": [
    "# Setup"
   ]
  },
  {
   "cell_type": "code",
   "execution_count": 32,
   "metadata": {},
   "outputs": [],
   "source": [
    "import numpy as np\n",
    "import requests\n",
    "import json\n",
    "import zipfile\n",
    "import pandas as pd\n",
    "import re\n",
    "import paralleldots\n",
    "\n",
    "paralleldots.set_api_key(\"aSWrD1QSsUqdb8JYWJ6jMJMXrTxjFXKhdD4xQZKiUlQ\")\n",
    "\n",
    "research_questions = {}\n",
    "qtr = []\n",
    "year = []\n",
    "group = []\n",
    "topic = []\n",
    "special = []\n",
    "word_counts = []\n",
    "index = 0\n",
    "\n",
    "with zipfile.ZipFile(\"zips/FinalProjects-Wi21-main.zip\", \"r\") as f:\n",
    "    for i, name in enumerate(f.namelist()):\n",
    "        if '.ipynb' not in name:\n",
    "            continue\n",
    "        rf = json.loads(f.read(name))\n",
    "        word_count = 0\n",
    "        rq_found = False\n",
    "        for j, cell in enumerate(rf['cells']):\n",
    "            if cell['cell_type'] == 'markdown':\n",
    "                for c in cell['source']:\n",
    "                    if (rq_found == False) and (re.search(r\"(^#.*research question)\", c.lower()) != None):\n",
    "                        qtr.append(\"WI\")\n",
    "                        year.append(2021)\n",
    "                        group.append(int(re.search(r\"[$0-9^]{3,}\", name)[0]))\n",
    "                        special.append(False if re.search(r\"_S\\.ipynb\", name) == None else True)\n",
    "                        rq = ' '.join(rf['cells'][j+1]['source'])\n",
    "                        research_questions[str(group[index])+\"_\"+qtr[index]+\"_\"+str(year[index])] = rq          \n",
    "                        rq_found = True\n",
    "                        index += 1\n",
    "                    word_count += len(c.replace('#', '').lstrip().split(' '))\n",
    "        word_counts.append(word_count)"
   ]
  },
  {
   "cell_type": "code",
   "execution_count": 33,
   "metadata": {},
   "outputs": [
    {
     "name": "stdout",
     "output_type": "stream",
     "text": [
      "*What is the relative effect of unemployment, poverty, and homelessness on adult obesity rates (BMI >= 30) across states in the United States?*  ::  IMPACT\n",
      "Was there a relationship between the median age and the median cost of living across congressional districts in a given state in 2019?  ::  POLITICS\n",
      "How did the 2019-20 NBA Bubble affect players' shooting performance in the 2019-20 playoffs compared to that of the previous 5 years (2014-15 to 2018-19)?  ::  SPORTS\n",
      "Is there a relationship between the search popularity (in terms of Google searches) a movie receives before its release and the box-office revenue it makes during its opening weekend?  ::  ENTERTAINMENT\n",
      "What are the factors that contribute to the success of video game sales across the regions of North America, Europe, and Japan?\n",
      "  ::  POLITICS\n",
      "**Is there a relationship between the frequency of mentions of Tesla, Apple, and Zoom on Reddit and Twitter and the change in their respective average weekly closing prices from 01/01/2020 to 01/01/2021?**  ::  BUSINESS\n",
      "What demographic groups in the United States have been losing the most sleep over the last decade?  ::  HEALTHY LIVING\n",
      "Is there a relationship between a Californian's socioeconomic status and the quality of drinking water within the region they live in? Specifically how does the employment rates, number of people with different types of education, and income of an area affect the water quality score?   ::  IMPACT\n",
      "Is there a statistically significant relationship between the scale (burning area) of wildfire and climate variables in California that are associated with global warming such as air relative humidity level, temperature, wind speed, and precipitation? Additionally, how can we utilize these climate variables to predict the wildfire events in California and the scale of wildfire?  ::  GREEN\n",
      "_What's the effects of a pandemic on the US economy?_\n",
      " 1. Effects of the COVID pandemic on the US economy?\n",
      " 2. Effects of the H1N1 pandemic on the US economy?\n",
      " 3. Effects of the SARS pandemic on the US economy?\n",
      " \n",
      " The independent variables in our project are the daily case numbers of SARS, H1N1, and COVID-19 and our dependent variables are the stock prices of Dow Jones and pharmaceutical companies during the global pandemics.   ::  BUSINESS\n",
      "What are the major factors noticed during crashes?\n",
      " \n",
      " Does a country with higher GDP contribute to a higher average fatalities among airline crashes?\n",
      " \n",
      " Does the likelihood of an airline crash depend on the daylight conditions in that timezone?  ::  TRAVEL\n",
      "1) What are the, if any, discrepancies between ethnic groups’ access to telemedicine in the U.S. throughout the time course of the COVID-19 pandemic?\n",
      " \n",
      " 2) Has the overall usage of telemedicine increased or decreased significantly across all ethnicity groups since the start of the COVID-19 pandemic?  ::  WORLDPOST\n",
      "- Does celebrity advertising on late-night tv shows increase the popularity, rating, and gross income of a movie?  ::  ENTERTAINMENT\n",
      "Which factor measured by the World Happiness Report contributes most to the average self-perceived happiness of a country?  ::  HEALTHY LIVING\n",
      "Is there a wage gap between women and men? If there is, what are some of the variables that correlate to the wage gap? In particular, we'll look at variables such as age, education attainment, marital status, fertility rate, and employment status.  ::  IMPACT\n",
      "Are demographic factors such as average income, drug abuse rate, and education level indicators of high rates of rape?   ::  EDUCATION\n",
      "Is a state's economy positively or negatively affected by its number of postsecondary schools (PSN) between 2015-2020?  ::  EDUCATION\n",
      "Is there a relationship between temperature trends and number of suicides in New York City? More specifically:\n",
      " \n",
      " 1. Do suicide rates in a given season differ when average temperatures in that season deviate from typical* seasonal temperatures?\n",
      " 2. Do suicide rates differ between men and women in years when there is higher temperature fluctuation?\n",
      " \n",
      " **Typical refers here to the average seasonal temperature across the years 2008-2014*  ::  HEALTHY LIVING\n",
      "Do additional in-school student support resources such as gyms, support staff, and art programs contribute to higher performance for students in grades 3-8 as measured by passing rates on statewide English and Math exams?\n",
      " \n",
      " - Furthermore, do specific support resources have a noticeable positive correlation with better test outcomes?\n",
      "  ::  EDUCATION\n",
      "How is the severity of a traffic jam after a car crash impacted as a result of where the accident occurs and different weather conditions?  ::  ENTERTAINMENT\n",
      "## Background and Prior Work\n",
      " \n",
      " It is well known that a nutritious diet is fundamental to a healthy lifestyle. In general, a nutritious diet provides us with sufficient energy, aids in the maintenance of a moderate weight, and even contributes to restful sleep (1). Furthermore, it has been shown to be one of the most effective modes of preventing certain non-communicable diseases, such as cardiovascular disease (CVD), type 2 diabetes, and cancer. \n",
      " \n",
      " The World Health Organization (WHO) reports that non-communicable diseases are collectively responsible for the death of nearly 41 million people each year, which is equivalent to 71% of all deaths globally. 15 million of these people are between the ages of 30-69, with the majority of them occurring in both low- and middle-income countries (3). Besides the challenge that chronic disease poses to public health, they have also been shown to “exert a significant negative impact” on the economies of developing countries (2). The magnitude of this epidemic is alarming in consideration of the fact that the underlying risk factors, such as poor diet, tobacco use, consumption of alcohol, and physical inactivity, are largely preventable (3). It is imperative that countries take the necessary actions to promote methods of preventive care in order to contain the threat of this epidemic. Similarly, a report conducted by WHO and the Food and Agriculture Organization (FAO) proposed that “that nutrition should be placed at the forefront of public health policies and programmes” (4). In our project, we intend to analyze the relationship between the food groups prominent within a country's diet and their annual mortality rate from NCDs in order to inform their decision-making in regards to diet. In doing so, we hope to encourage readers to recognize the impact of their choices and the agency they have in determining the trajectory of their health.\n",
      " \n",
      " #### References:\n",
      " 1. Essentials of Healthy Eating: A Guide (https://www.ncbi.nlm.nih.gov/pmc/articles/PMC3471136/)\n",
      " 2. Global Chronic Diseases (https://science.sciencemag.org/content/307/5708/317#:~:text=Chronic%20diseases%2C%20particularly%20cardiovascular%20disease,contributing%20to%20this%20disease%20burden.) \n",
      " 3. Noncommunicable Diseases (https://www.who.int/health-topics/noncommunicable-diseases#tab=tab_1)\n",
      " 4. Diet, nutrition, and the prevention of chronic diseases (https://www.who.int/publications/i/item/924120916X)  ::  HEALTHY LIVING\n",
      "How do video game sales correlate with SAT scores in North America? How does this correlation change over time?  ::  TECH\n",
      "How has the sentiment of tweets been impacted and changed over the course of the COVID-19 pandemic when factoring in highly significant events that took place, specifically the emergence and approval of the COVID-19 vaccine, and language differences?  ::  HEALTHY LIVING\n",
      "Can we use various socio-economic factors of an individual to accurately predict whether or not that individual has an income of more than $50,000 a year?  ::  POLITICS\n",
      "What is the relationship between frequent alcohol use by high school students in the United States and certain health-risk behaviors and factors such as substance use (methamphetamines, marijuana, steroids, cigarettes, tobacco, etc.), mental health/psychological factors (feeling unsafe at school, feeling hopeless, contemplating suicide, arming weapons, and engaging in fights), etc.?  ::  HEALTHY LIVING\n",
      "How will the prevalence of depression be affected by the number of warm months (average temperature above 68F) for each state of the United States?  ::  HEALTHY LIVING\n"
     ]
    },
    {
     "name": "stdout",
     "output_type": "stream",
     "text": [
      "How has the adoption of ridesharing affected the GHG emissions in a populous city with a pre-existing reliance on car services like New York City?   ::  POLITICS\n",
      "On average, do international-born NBA players historically perform better than domestic player?  ::  SPORTS\n",
      "How does treatment method (invasive or noninvasive) in bone fracture injuries correlate to game performance before and after treatment in NBA players?  ::  HEALTHY LIVING\n",
      "During 2020 and the pandemic was there a significant increase in 'sad' songs compared to years prior?  ::  IMPACT\n",
      "What is the trajectory of future air pollution and temperatures in California counties based on past trends of California climate?  ::  HEALTHY LIVING\n",
      "Can we predict which state in the USA will be covid-free first based on current hospital records, vaccination rates, and population?  ::  HEALTHY LIVING\n",
      "Are there significant differences among courses under the Humanities, Social Science, and STEM departments at UCSD in terms of correlation between course difficulty and instructors’ ratings given through UCSD's official student-feedback platform, CAPE?  ::  EDUCATION\n",
      "Is there a relationship between the popularity of one's major and the employment rate of related fields of work requiring an undergraduate degree in that particular major?\n",
      "  ::  POLITICS\n",
      "How remote learning at UCSD during COVID-19 pandemic affects undergraduate students' academic performance (measured by GPA and study hours) and expectation(measured by students' expected grades)?  ::  EDUCATION\n",
      "*Is there a relationship between each block group’s (identified by unique block group code) crime index in San Diego county and corresponding unemployment rate in the year 2020?*  ::  ENTERTAINMENT\n",
      "Does the GDP or poverty rate of a country affect its death/infected/recovered rate of the COVID-19?\n",
      "  - Is there any negative correlation between the economic status and mortality rate of COVID-19?\n",
      "  - Is there any negative correlation between the economic status and infection rate of COVID-19?\n",
      "  - Is there any positive correlation between the economic status and recovered rate of COVID-19?  ::  POLITICS\n",
      "Is there an impact on COVID-19 transmission and fatality rates in prisons due to the amount healthcare funding (1), prison overcrowding (2) and the security level of the prison (3)?  ::  POLITICS\n",
      "How has different subgroups' mental health treatment been affected during COVID-19 from August 2020 to January 2021?\n",
      " Which subgroups have had the most decreased access to mental health care during the pandemic, and why might these subgroups have differing needs of access to mental healthcare during the pandemic? Which subgroups have had the most decreased access to mental health care during the pandemic?  ::  HEALTHY LIVING\n",
      "What relationship(s) is/are there between the number of covid cases and the characteristics (danceability, valence, and energy) of popular music on Spotify?  ::  ENTERTAINMENT\n",
      "Does average rating affect the number of downloads between free and paid apps on the Google Play Store?  ::  BUSINESS\n",
      "How does government spending in the US differ from government spending in happier nations?  ::  POLITICS\n",
      "How has COVID-19 and its trend of total cases and total deaths impacted mental health, as alluded to by Google Trends search data in the United States?  ::  HEALTHY LIVING\n",
      "What difference, if any, is there between how the American and Japanese markets rate shows within certain genres?\n",
      " \n",
      " Is there an association between how the amount of shows available in this genre and the magnitude of thedifference, if any, between these two markets?  ::  BUSINESS\n",
      "In the United States during Spring 2020, did people exercise for longer durations in states with higher average temperatures?  ::  POLITICS\n",
      "What types of YouTube videos tend to get more popular in United States?  ::  TECH\n",
      "To what extent did the unemployment rate and salary affect graduate school enrollment of a major?  ::  EDUCATION\n",
      "We are conducting this research to investigate what jobs in 2020 were significantly affected by the COVID-19 pandemic, which led us to the research question: \"Among careers in the United States, which careers experienced increased unemployment rates during the COVID-19 pandemic in 2020?\"  ::  BUSINESS\n",
      "Do counties with lower temperature climates experience a steeper spike in the number of coronavirus cases compared to counties with relatively higher temperatures across the US?\n",
      "    ::  HEALTHY LIVING\n",
      "# Setup  ::  IMPACT\n",
      "Big Question:\n",
      " ***How has the COVID-19 infection rate influenced the video game community?***\n",
      " 1. How has the rise in COVID-19 infection rates affect user playtime among popular online video-games?\n",
      " 2. From the start of COVID-19 infections, what relationship can be seen develop with video game discounts and quarantine length?\n",
      " 3. Ever since COVID-19 has quarantined everyone what has it done to major game release dates?  ::  BUSINESS\n",
      "It is expected that a company's stock price is correlated with the release of a new product (https://www.dividend.com/how-to-invest/how-does-apple-stock-react-to-product-releases/). However, the impact customer approval/anticipation has on the change in price is unknown. For the sake of the feasibility of our analysis, we are asking if there is a possible correlation between the overall sentiment of the YouTube comments on videos related to Apple's anticipated products and a change in the company's stock value. *More specifically, will a negative public approval (ascertained by the sentiment analysis of the comments) predict a lesser or negative change in price and conversely will a higher approval rating indicate a greater positive change in value? *  ::  BUSINESS\n",
      "Is there a significant change in the growth of the major U.S. stock market indexes caused by the political party of a United State's President? Is there a significant difference in the percent change in stock prices between Democratic presidential terms and Republican presidential terms?   ::  BUSINESS\n",
      "What is the relationship between minutes spent on recreational activities (moderate and vigorous) and minutes spent using electronics (computers, television, and video games) by Americans from the year 2007 to 2016?  ::  POLITICS\n",
      "Do drivers in Southern California have a greater increase in vehicle collisions during rainy weather when compared to drivers in Northern California?  ::  POLITICS\n",
      "Do large online communities ( of retail traders) have influence over the stock market?\n",
      " \n",
      " *Sentiment analysis of positivity on the Reddit subreddit r/WallStreetBets and how this correlates to the performance of the S&P 500 from January 31, 2012 to the present.*  ::  BUSINESS\n",
      "How does the county-level wide income level in the U.S. affect the likelihood of contracting the Covid-19 virus and its mortality rate?  ::  POLITICS\n",
      "How has remote learning during the COVID-19 pandemic affected UCSD students’ grades and learning experience?\n",
      " \n",
      " (Here we measure learning experience by the rate students reccomend classes)  ::  IMPACT\n",
      "To what extend does high school education attainment play a role in the lowering of poverty rates in the United States?  ::  EDUCATION\n",
      "Does Covid-19 inoculation rate in selected counties in the US correlate with the average income in a county?   ::  BUSINESS\n",
      "Are a country’s subfactors of wellbeing measured in the World Happiness Report for a particular year: “logged GDP per capita”, “social support”, “healthy life expectancy”, “freedom to make life choices”, “generosity”, and “perception of corruption”, correlated with that country’s suicide rate for that year? Within these six factors, which factor has the strongest correlation with suicide rates?  ::  HEALTHY LIVING\n",
      "## **Background & Prior Research**\n",
      " \n",
      " As college students, most of us are not unfamiliar with the idea of dating whether we’ve experienced it first-hand or seen it with our friends and family. However, dating, itself, is not a universally shared experience as different people have different attributes for what they look for in a significant other. Some attributes include attractiveness, sincerity, intelligence, fun, ambition, and shared interests. \n",
      " \n",
      " In Western culture, dating is usually seen as a period where “people engage in informal and often polygamous relationships” [1] where people try to find someone that they deem fit and compatible enough to settle down with. Nevertheless, every dating experience is different since there are many variables that come into play when it comes to dating. So, we wanted to look more into how personal qualities affect one’s desirability as a potential partner and how attraction comes into play when similar interests or traits are introduced to one another. \n",
      " \n",
      " Most of the studies conducted to test attraction are well-controlled experiments which raises the concern for a lack of ecological validity [3, 4]. However, Ray Fisman and Sheena Iyengar’s speed dating experiment combats that concern. Their speed-dating scenario provides experimental control yet also gives data on decisions made in a setting that mimics real world scenarios [1]. Therefore, we decided to use data from their experiment as we deemed it was the best fit experiment for our research question. From other previous speed-dating studies, there’s been a consistent finding in how the strongest predictor of attraction was physical attractiveness which is seen across both sexes [3]. \n",
      " \n",
      " In our chosen study, researchers used fliers and emails to recruit students for the experiment. Trials took place during speed dating events held at popular restaurants near campus and to keep the environmental settings constant, trials at each location kept the same table arrangements, music, and lighting to reduce external factors from influencing outcomes. \n",
      " \n",
      " During the experiment, participants would rank certain attributes of their dates on paper and determine if they would be a match. Included in these attributes were attractiveness, sincerity, intelligence, humor, ambition, and shared interests. Moreover, specific activities were laid out for participants to rank for interest such as sports, hiking, movies, and music. They also marked how important their partners’ race and religion were to them when deciding on being a match. All these factors helped researchers to uncover how individuals gauge if a person could be a suitable mate. They found that people do in fact have strong racial preferences when it comes to finding a partner even more so than having shared interests.\n",
      " \n",
      " In previous studies regarding dating preferences, physical attractiveness played a pivotal role in matching with a partner. Both men and women were found to value their partners’ appearance but there was no statistical significance in correlations for similarity of personalities and character traits [3]. This tells us that in dating, appearance is more important in a first impression than similarity. However, this does not mean that similarity is eliminated for initial romantic liking. According to one study, people do respond to perceived similarity in one another for attraction, but not to actual similarity [4]. For perceived notions of similarity, dates were more successful for individuals who expressed similar interests during the date itself. But when individuals completed personality trait assessments prior to the dates, the actual similarities between partners were lacking and did not lead to initial attraction. Based on this finding, similar interests and traits are not as important in finding a potential partner but do play a small part in initial attraction in addition to appearance.\n",
      " \n",
      " These research papers have led us to explore the idea of romantic attraction and how so many different variables come into play. Attraction is multi-dimensional and we want to study short-term and long-term to see if there’s a difference in attraction between people who are seeking ideal partners and people who aren’t necessarily looking to settle down yet. We believe that by exploring our research topic, we will have a better understanding of why certain dating preferences may exist. \n",
      " \n",
      " ---\n",
      " \n",
      " 1. Fisman, Iyengar, Kamenica & Simonson (2006) - Gender Differences in Mate Selection\n",
      " https://pdfs.semanticscholar.org/c51b/e9f818f0ecff3e705f0f7d35ccd748bae3ae.pdf?_ga=2.14097586.401217499.1611810866-1263278245.1611810866\n",
      " \n",
      " 2. Fisman, Iyengar, Kamenica & Simonson (2006) - Racial Preferences in Dating\n",
      " https://www0.gsb.columbia.edu/mygsb/faculty/research/pubfiles/866/racialPreferences.pdf\n",
      " \n",
      " 3. Luo & Zhang (2009) - What Leads to Romantic Attraction: Similarity, Reciprocity, Security, or Beauty?\n",
      " https://www.researchgate.net/publication/26322693_What_Leads_to_Romantic_Attraction_Similarity_Reciprocity_Security_or_Beauty_Evidence_From_a_Speed-Dating_Study\n",
      " \n",
      " 4. Tidwell, Eastwick & Finkel (2012) - Perceived Similarity Predicts Initial Attraction in a Romantic Context\n",
      " https://faculty.wcas.northwestern.edu/eli-finkel/documents/InPress_TidwellEastwickFinkel_PersonalRelationships_000.pdf\n",
      " \n",
      " ---\n",
      " \n",
      " \n",
      "  ::  IMPACT\n"
     ]
    },
    {
     "name": "stdout",
     "output_type": "stream",
     "text": [
      "*Did the amount of politically charged Tweets (i.e. Tweets containing political keywords like election, voting, president) increase in 2020 relative to 2016 and did this reflect a change in new voter registration between these two election years?*  ::  POLITICS\n",
      "&nbsp;&nbsp;&nbsp;&nbsp;&nbsp;&nbsp;&nbsp;&nbsp;To what extent did tweets that directly reference Donald Trump and/or Joe Biden contribute to voter turnout by state in the 2020 US presidential election?  ::  POLITICS\n",
      "How has COVID-19 preventative measures affected the amounts of and rates of PPE pollution collected on the coastlines of the United States over time?  ::  HEALTHY LIVING\n"
     ]
    }
   ],
   "source": [
    "topic = []\n",
    "for i, (g, q, y) in enumerate(zip(group, qtr, year)):\n",
    "    response = paralleldots.taxonomy(research_questions[str(group[i])+\"_\"+qtr[i]+\"_\"+str(year[i])])\n",
    "    topic.append(response['taxonomy'][0]['tag'])\n",
    "    print(research_questions[str(group[i])+\"_\"+qtr[i]+\"_\"+str(year[i])], \" :: \", topic[i])"
   ]
  },
  {
   "cell_type": "code",
   "execution_count": 34,
   "metadata": {},
   "outputs": [
    {
     "name": "stdout",
     "output_type": "stream",
     "text": [
      "65 65 65 65 65 65\n",
      "None\n"
     ]
    }
   ],
   "source": [
    "print(len(group), len(qtr), len(year), len(topic), len(special), len(word_counts))\n",
    "d = {'Group':group, 'Quarter':qtr, 'Year':year, 'Topic':topic, 'Special':special, 'Word_Count':word_counts}\n",
    "#df = pd.DataFrame(list(zip(group, qtr, year, topic, special, word_counts)), columns =['Group', 'Qtr', 'Year', 'Topic', 'Special', 'Word_Count'])\n",
    "df = pd.DataFrame(data = d)\n",
    "output = df.to_csv(path_or_buf=\"./\"+qtr[0] + str(year[0])+\".csv\")\n",
    "print(output)"
   ]
  },
  {
   "cell_type": "markdown",
   "metadata": {},
   "source": [
    "# Data Cleaning"
   ]
  },
  {
   "cell_type": "markdown",
   "metadata": {},
   "source": [
    "Describe your data cleaning steps here."
   ]
  },
  {
   "cell_type": "code",
   "execution_count": null,
   "metadata": {},
   "outputs": [],
   "source": [
    "## YOUR CODE HERE\n",
    "## FEEL FREE TO ADD MULTIPLE CELLS PER SECTION"
   ]
  }
 ],
 "metadata": {
  "kernelspec": {
   "display_name": "Python 3",
   "language": "python",
   "name": "python3"
  },
  "language_info": {
   "codemirror_mode": {
    "name": "ipython",
    "version": 3
   },
   "file_extension": ".py",
   "mimetype": "text/x-python",
   "name": "python",
   "nbconvert_exporter": "python",
   "pygments_lexer": "ipython3",
   "version": "3.6.9"
  }
 },
 "nbformat": 4,
 "nbformat_minor": 2
}
