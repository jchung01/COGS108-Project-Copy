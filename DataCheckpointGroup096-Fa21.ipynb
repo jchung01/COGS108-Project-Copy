{
 "cells": [
  {
   "cell_type": "markdown",
   "metadata": {},
   "source": [
    "# COGS 108 - Data Checkpoint"
   ]
  },
  {
   "cell_type": "markdown",
   "metadata": {},
   "source": [
    "# Names\n",
    "\n",
    "- Joonsung Park\n",
    "- James Chung\n",
    "- Richard Gross\n",
    "- Madison Hambly\n",
    "- Colin Lintereur"
   ]
  },
  {
   "cell_type": "markdown",
   "metadata": {},
   "source": [
    "<a id='research_question'></a>\n",
    "# Research Question"
   ]
  },
  {
   "cell_type": "markdown",
   "metadata": {},
   "source": [
    "*Fill in your research question here*"
   ]
  },
  {
   "cell_type": "markdown",
   "metadata": {},
   "source": [
    "# Dataset(s)"
   ]
  },
  {
   "cell_type": "markdown",
   "metadata": {},
   "source": [
    "*Fill in your dataset information here*\n",
    "\n",
    "(Copy this information for each dataset)\n",
    "- Dataset Name:\n",
    "- Link to the dataset:\n",
    "- Number of observations:\n",
    "\n",
    "1-2 sentences describing each dataset. \n",
    "\n",
    "If you plan to use multiple datasets, add 1-2 sentences about how you plan to combine these datasets."
   ]
  },
  {
   "cell_type": "markdown",
   "metadata": {},
   "source": [
    "# Setup"
   ]
  },
  {
   "cell_type": "code",
   "execution_count": 32,
   "metadata": {},
   "outputs": [
    {
     "name": "stdout",
     "output_type": "stream",
     "text": [
      "['Which factor, among major, college quality, internship experience, and gender, is the most influential on the starting salary of college graduates in the United States?']Finance\n",
      "[\"What is the effect of attending a private vs. public undergraduate university on a person's post-graduation salary? What is the effect of the region on the post-graduation salary of a private vs. public school graduate?\"]\n",
      "['Is there a relationship between the unemployment rate and number of fast food restaurants in a county, and if so, can this relationship be used to predict the number of such restaurants?']\n",
      "[\"Is an increase of a city's housing prices **in California** correlated to rates of homelessness in that city? We can consider different types of homelessness in our analysis. Some potential candidates include:\\n\", '- sheltered vs. unsheltered homeless population\\n', '- chronic vs. non-chronic homeless population\\n', '- individual vs. family homeless population\\n', '\\n', 'or any combination of the above.']\n",
      "['Is there a statistically significant relationship between the number of reported Unidentified Flying Object (UFO) sightings in a given locality (California counties) and the registered political party affiliation (Democratic or Republican) of its constituents.']\n",
      "[\" How does the number, favorite count, and retweet count of NBA players' political tweets affect their salary, on-court performance, and impact to the team during 2017-2021?<br>\"]\n",
      "['Is there a difference between the annual incomes of males and females in different industries in the United States from 2013 to 2016? If some industries are male/female-dominated, does this difference still exist? Besides gender, does the education level of males and females contribute to this income gap?\\n', '\\n', 'We will look at eight different major industries in the U.S:\\n', '\\n', '- Computer, Engineering, and Science\\n', '- Education, Legal, Community Service, Arts, and Media\\n', '- Healthcare Practitioners and Technical\\n', '- Management, Business and Financial\\n', '- Natural Resources, Construction, and Maintenance\\n', '- Production, Transportation, and Material Moving\\n', '- Sales and Office\\n', '- Service.']\n",
      "[\"*Does an increase in tweets with the hashtag description '#bitcoin' correlate with an increase in bitcoin price? What time frame relationship holds the strongest correlation?*\\n\", '- Does the number of tweets about bitcoin in one week correlate with the change in price of bitcoin the next week?\\n', '- Is there a relationship between the number of tweets on a given day, and the change in price of bitcoin the day after?']\n",
      "['What trends can be found between a county’s designation of a superfund site and its socioeconomic/demographic trends? Does the demographic makeup of a county influence the amount of time between Superfund designation and the completion of the remediation process?']\n",
      "[\"Of a subset of six Twitch streamers, can we reliably identify a particular streamer's chat by performing machine learning analyses on their respective chatlogs? Furthermore, does Twitch emote usage vary from streamer to streamer?\"]\n",
      "['Which neighborhoods in the City of Detroit had the most crime in 2011-2014? Can we attribute relative crime rates to factors such as the presence of storm prevention infrastructure, government protection, or policing? Do any of these factors contribute to a certain *kind* of crime? In particular:\\n', \"- Do either of policing, infrastructure, or extensive government protection and urban planning have statistically significant effects on our measures of crime? For example, do neighborhoods highly scouted by the DPD have a different crime distribution than ones that aren't?\\n\", '- Do any of the factors mentioned above have more statistically significant affects on crime categories such as homicide, aggravated assault, or burglary?']\n",
      "[\"What is the relationship between government policies and agreements and reduced global carbon emissions of countries from 1970 to 2018 and how do a country's climate change policy sector and policy information predict its change in carbon emissions for the following year?\"]\n",
      "['What is the relationship between race and reason for wrongful conviction among exonerees in the United States?']\n",
      "['How has the lyrical complexity of hip hop music, as measured by repetitiveness, average word length, and a rhyme score that quanitfies rhyme quality, changed over time from 1990 to 2020?']\n",
      "['Can we recognize color patterns and generate representative colors and color palettes for movie posters based on their specific characteristics such as plot, genre, and origin?']\n",
      "['- Can life expectancy be predicted based on realistic factors, and     what factors are associated with life expectancy?\\n', '    1. Can we predict life expectancy based on the quality of medical         treatment & health care?\\n', '    2. Can we predict life expectancy based on the income composition of resources?\\n', '    3. Can we predict life expectancy based on schooling?\\n', '    4. Does education level have a positive impact on life expectancy? \\n', '    5. What is the relationship between economic level and life               expectancy?']\n",
      "['*What is the relationship between diet (soy consumption, alcohol consumption, etc) and breast cancer prognosis in a population of women in Southern California?*']\n",
      "[\"__Do citizens in countries that have a higher GDP (richer) also live a better life, measured by people's perception of how satisfied they are with their life on a scale and explained by six measurements of happiness: GDP, life support, life expectancy, generosity and corruption rate.__\"]\n",
      "['1. Can we use job-related information to predict whether an employee will resign?\\n', '2. Among job involvement, salary, and total working years, is salary the main driver of employee attrition?\\n']\n",
      "['How did the COVID-19 pandemic playoffs in the NBA, held in a single neutral stadium with no fans, affect the home team advantage? How did these changes affect NBA play tendencies (i.e. shot type efficiency, rebounds, assists, turnovers, steals, blocks, etc.)?']\n",
      "['How have the number of concurrent users for various video game genres as well as US game sales been affected by the number of people in lockdown?']\n",
      "['In the United States, is there a relationship between the progress of COVID-19 state vaccinations and beliefs about mask compliance by the citizens of that state?']\n",
      "['Is there a relationship between rates of rape and transportation, public safety, environment, housing, and infrastructure spending by large cities with populations over 250,000 in the U.S from 1977-2015?']\n",
      "['Are demographic information like income, education level, race, and household region correlated with chronic mental health conditions like anxiety and depression in US adutls?']\n",
      "[\"How do various economic aspects of a person's life such as (employment, gdp, tax revenue, trade and primary income payments), influence their happiness in certain countries from 2015 to now?\"]\n",
      "['According to Gallup’s World Happiness report’s dataset, which of the six indicators (GDP per capita, healthy life expectancy, social support, freedom to make life choices, generosity, corruption perception) most strongly predicts happiness across the countries surveyed ?:\\n', '\\n', '- What indicator displays the largest difference in life satisfaction between the top 15% of the countries and the bottom 15% of the countries, in terms that specific indicator?\\n', '- Which indicator overall is the most strongly correlated with life satisfaction up to 2021?\\n', '- Which indicator overall is the most strongly correlated with positive affect up to 2020?']\n",
      "['Does a strong correlation exist between the total daily trading volume and closing price of Dogecoin? Will a correlation also exist between the total daily trading volume and closing price in Bitcoin and that of Dogecoin?']\n",
      "['What is the relationship between the amount of reported California police shootings and the number of law-enforcement related bills proposed in the state from 2015 to now?\\n', '\\n', '\\n']\n",
      "['Do countries with a more total COVID-19 cases have a higher death rate?']\n",
      "['What aspects of a novel correlate with a high probability of becoming a bestselling novel in the U.S.? Does a novel’s genre, length, release date, title, or subject matter highly correlate with it becoming successful?']\n"
     ]
    },
    {
     "name": "stdout",
     "output_type": "stream",
     "text": [
      "['Is there a statistically significant relationship between an NFL team’s quarterback’s performance (i.e., pass yards, pass touchdowns, interceptions, and completion percentage), and the success of the team overall (i.e. average team win percentage)?']\n",
      "['*What regional factors (such as crime rate, police department funding, racial diversity, gender, socioeconomic status) are correlated with the number of police shootings in the largest U.S. cities (population ≥ 500,000)?*']\n",
      "['How did the COVID-19 pandemic affect multiplayer (games with social interaction) games available on steam?\\n', '\\n', '- How did the pandemic affect popularity of multiplayer games versus the single player games? \\n', '- What genres and tags were common in games with highest increase in popularity?']\n",
      "['*Is there a relationship between the (percentage) changes in hashrates and prices of the cryptocurrencies Bitcoin (BTC), Ethereum (ETH), and DogeCoin (DOGE) during the last 5 years (January 2016 - May 2021)?*']\n",
      "[\"**How are American news headline sentiments correlated to their publication source's political leanings?** To do this, we wanted three sources that reflected 'far-left', 'centrist', and 'far-right' political leanings. Using both AllSides and MediaBiasFactCheck, Breitbart was evaluated as the most right-leaning news source of our dataset, CNN was evaluated as the most left-leaning news source, and NPR was evaluated as the most politically-centrist news source [1, 2, 3, 4, 5, 6, 7]. *We hypothesize that the two more politically polar news sources, Breitbart and CNN, will have more polar sentiment (as in frequently positive or negative), and the more centrist news source, NPR, will be more neutral in sentiment.*\\n\", '- [1] https://www.allsides.com/news-source/cnn-media-bias\\n', '- [2] https://mediabiasfactcheck.com/cnn/\\n', '- [3] https://mediabiasfactcheck.com/npr/\\n', '- [4] https://www.allsides.com/news-source/npr-media-bias\\n', '- [5] https://www.allsides.com/news-source/breitbart\\n', '- [6] https://mediabiasfactcheck.com/breitbart/\\n', '- [7] https://www.adfontesmedia.com/static-mbc/']\n",
      "['## Data Cleaning\\n', '\\n', 'Here, I first read in the csv as a local file, and remove all null values.\\n', '\\n', 'I then rename one column for better understanding, as well as map other variables from string values to boolean or int values. This is for added ease in the exploratory data analysis portion of this project. \\n', '\\n', 'Originally, I intended to randomly sample a tenth of the entries from the dataset, but found that the deviation in values nullified any potential benefit to efficiency through sampling. \\n', '\\n', 'I also remove the `id` column because it is not needed for any analysis we will conduct later.']\n",
      "['*Under the pandemic of COVID-19, is there a relationship between restaurants’ survival and the popularity and price of the restaurants, pandemic intensity, and regional income in Portland?*']\n",
      "['Given that the efficiency of a country’s healthcare system can be measured by both economic indicators (GDP Expenditure) and health indicators (childhood mortality, vaccination coverage, insurance rate), how much does the quality of healthcare in the U.S contribute to the change in life expectancy from 1980 to 2016?']\n",
      "['How do tweets from market celebrities/influencers (Elon Musk, Mark Cuban, Jack Dorsey, Vladimir Tenev, Brian Armstrong, Bespoke Crpyto) affect crypto currency investments? More specifically, how do the sentiments of these tweets drive the number and types of investments, and how effective are the tweets of pop-culture figures (e.g. Elon Musk) compared to less-known specialists (e.g. Vladimir Tenev)?']\n",
      "['##### What is the relationship between the air quality and the median household incomes across California?']\n",
      "['What factors can contribute to how good a taco shop’s burrito is? Are there any relationships between price, location, proximity to ingredient suppliers, etc.?']\n",
      "['What is the relationship between the amount of law enforcement in the top 50 most populous U.S. cities and the following: city population, crime rate, and number of police shootings household, median income and proportion of non-white individuals?\\n', '\\n', 'We restricted our analysis to the top 50 most populous cities in the U.S. because general discussion of policing typically centers around major urban areas, which are more heavily populated than other areas (e.g. smaller cities, rural areas). We believed that including more cities with smaller populations would not help us focus on major cities; moreover, it would have  introduced data that would skew the results from the top 50 cities.']\n",
      "['Does there exist a relationship between the time period of COVID-19 and a change in mental health diagnosis such as depression and anxiety? Specifically, does the time period of COVID 19 have an effect on levels of depression and anxiety of different regions of the United States and different age ranges throughout the COVID-19 time period?']\n",
      "['<b>How has COVID-19 impacted high-income counties air quality in comparison to middle-income and low-income counties?</b>']\n",
      "[\"Does not having fans impact an NBA team's performances on the court (e.g. Wins, Free Throw %, Turnover %, 3 Points made) when compared to performances of home and away teams?\"]\n"
     ]
    }
   ],
   "source": [
    "import numpy as np\n",
    "import requests\n",
    "# import io\n",
    "# from pathlib import Path\n",
    "import json\n",
    "import zipfile\n",
    "import pandas as pd\n",
    "import re\n",
    "\n",
    "# regex = r\"[$0-9^]{2,}\"\n",
    "# test_str = \"FinalProject_group050_S.ipynb\"\n",
    "# matches = re.search(regex, test_str)\n",
    "# print(matches[0])\n",
    "\n",
    "research_questions = {}\n",
    "qtr = []\n",
    "year = []\n",
    "group = []\n",
    "topic = []\n",
    "special = []\n",
    "index = 0\n",
    "\n",
    "with zipfile.ZipFile(\"FinalProjects-Sp21-main.zip\", \"r\") as f:\n",
    "    for i, name in enumerate(f.namelist()):\n",
    "        if '.ipynb' not in name:\n",
    "            continue\n",
    "        rf = json.loads(f.read(name))\n",
    "        for j, cell in enumerate(rf['cells']):\n",
    "            for c in cell['source']:\n",
    "                if '# research question' in c.lower():\n",
    "                    #print(name, \" :: \", rf['cells'][j+1]['source'])\n",
    "                    qtr.append(\"SP\")\n",
    "                    year.append(\"2021\")\n",
    "                    #print(name)\n",
    "                    group.append(re.search(r\"[$0-9^]{3,}\", name)[0])\n",
    "                    special.append(False if re.search(r\"_S\\.ipynb\", name) == None else True)\n",
    "                    #print(len(group), index)\n",
    "                    #print(group[index]+\"_\"+qtr[index]+\"_\"+year[index])\n",
    "                    research_questions[group[index]+\"_\"+qtr[index]+\"_\"+year[index]] = rf['cells'][j+1]['source']          \n",
    "                    index += 1\n",
    "#         try:\n",
    "#                     if '# research question' in c.lower():\n",
    "#                         #print(name, \" :: \", rf['cells'][j+1]['source'])\n",
    "#                         qtr.append(\"SP\")\n",
    "#                         year.append(2021)\n",
    "#                         print(name)\n",
    "#                         group.append(re.search(r\"[$0-9^]{2,}\", name)[0])\n",
    "#                         special.append(False if re.search(r\"_S\\.ipynb\", name) == None else True)\n",
    "#                         print(group[i]+\"_\"+qtr[i]+\"_\"+year[i])\n",
    "#                         research_questions[group[i]+\"_\"+qtr[i]+\"_\"+year[i]] = rf['cells'][j+1]['source']\n",
    "#                 except IndexError:\n",
    "#                     print(\"INDEXERROR\", c)\n",
    "                    \n",
    "for i, (g, q, y) in enumerate(zip(group, qtr, year)):\n",
    "    topic.append(input(research_questions[group[i]+\"_\"+qtr[i]+\"_\"+year[i]]))\n",
    "    #print(topic)\n",
    "\n",
    "#     for name in f.namelist():\n",
    "#         data = f.read(name)\n",
    "#         print(name, len(data), repr(data[:10]))\n",
    "\n",
    "# link to sample notebook: https://raw.githubusercontent.com/COGS108/FinalProjects-Sp21/main/FinalProject_group002.ipynb\n",
    "# link = 'https://raw.githubusercontent.com/COGS108/FinalProjects-Sp21/main/FinalProject_group002.ipynb'\n",
    "\n",
    "# webpage=str(urllib.request.urlopen(link).read())\n",
    "# soup = bs4.BeautifulSoup(webpage)\n",
    "\n",
    "# print(soup.get_text())\n",
    "    \n",
    "# Downloading the csv file from your GitHub account\n",
    "\n",
    "# download = requests.get(link).content\n",
    "\n",
    "# download\n",
    "# rf = json.loads(download)\n",
    "\n",
    "# for i, cell in enumerate(rf['cells']):\n",
    "#     for c in cell['source']:\n",
    "#         try:\n",
    "#             if '# research question' in c.lower():\n",
    "#                 #print(cell)\n",
    "#                 print(rf['cells'][i+1]['source'])\n",
    "#         except IndexError:\n",
    "#             print(\"INDEXERROR\", c)"
   ]
  },
  {
   "cell_type": "code",
   "execution_count": 33,
   "metadata": {},
   "outputs": [
    {
     "data": {
      "text/plain": [
       "''"
      ]
     },
     "execution_count": 33,
     "metadata": {},
     "output_type": "execute_result"
    }
   ],
   "source": [
    "topic"
   ]
  },
  {
   "cell_type": "markdown",
   "metadata": {},
   "source": [
    "# Data Cleaning"
   ]
  },
  {
   "cell_type": "markdown",
   "metadata": {},
   "source": [
    "Describe your data cleaning steps here."
   ]
  },
  {
   "cell_type": "code",
   "execution_count": 2,
   "metadata": {},
   "outputs": [],
   "source": [
    "## YOUR CODE HERE\n",
    "## FEEL FREE TO ADD MULTIPLE CELLS PER SECTION"
   ]
  }
 ],
 "metadata": {
  "kernelspec": {
   "display_name": "Python 3",
   "language": "python",
   "name": "python3"
  },
  "language_info": {
   "codemirror_mode": {
    "name": "ipython",
    "version": 3
   },
   "file_extension": ".py",
   "mimetype": "text/x-python",
   "name": "python",
   "nbconvert_exporter": "python",
   "pygments_lexer": "ipython3",
   "version": "3.6.9"
  }
 },
 "nbformat": 4,
 "nbformat_minor": 2
}
